{
 "cells": [
  {
   "cell_type": "markdown",
   "metadata": {},
   "source": [
    "## PCA with PyKrev"
   ]
  },
  {
   "cell_type": "markdown",
   "metadata": {},
   "source": [
    "* In this guide we will cover how to perform PCA on your FT-MS data using the sklearn (sci-kit learn) library and PyKrev.  PCA is a dimensionality reduction technique which projects your data onto a smaller subset of axis (known as principal components) whilst preserving maximum variance.\n",
    "In this guide we will cover: \n",
    " * Data Preparation \n",
    " * Scree and variance plots\n",
    " * 2D PCA plots\n",
    " * Loading plots"
   ]
  },
  {
   "cell_type": "code",
   "execution_count": 1,
   "metadata": {},
   "outputs": [],
   "source": [
    "from sklearn.decomposition import PCA #if you do not already have the library installed run 'pip install scikit-learn'\n",
    "import pykrev as pk\n",
    "import numpy as np\n",
    "from matplotlib import pyplot as plt\n",
    "from matplotlib.lines import Line2D\n",
    "import pandas as pd"
   ]
  },
  {
   "cell_type": "code",
   "execution_count": 2,
   "metadata": {},
   "outputs": [],
   "source": [
    "np.random.seed(87) ## seed the RNG (for reproducible figures)"
   ]
  },
  {
   "cell_type": "markdown",
   "metadata": {},
   "source": [
    "* First we need to load in our dataset. In this example we are going to load in a batch aligned dataset. ```read_batch_formularity``` can then compute an ordination matrix directly on the data.\n",
    "  * The dataset was taken from [Kew, Will, et al. (2018)](https://pubs.acs.org/doi/10.1021/acs.analchem.8b01446) and consists of four whisky samples (W1 - W4) analysed using four complementary ionisation techniques (ESI, LDI, APCI, APPI) through FT-ICR-MS with formula assignment rules of O>0, N<2, S<=2, P<1."
   ]
  },
  {
   "cell_type": "code",
   "execution_count": 3,
   "metadata": {},
   "outputs": [
    {
     "name": "stdout",
     "output_type": "stream",
     "text": [
      "Warning, duplicate formula assignments detected. Ordination matrix will report values for first formula it encounters.\n"
     ]
    }
   ],
   "source": [
    "fdata, fordination = pk.read_batch_formularity('../example_data/mixed_batch.csv', impute_value = 0)\n",
    "nsample, nformula = fordination.shape #the ordination matrix has samples in rows and formula in columns"
   ]
  },
  {
   "cell_type": "code",
   "execution_count": 4,
   "metadata": {},
   "outputs": [
    {
     "data": {
      "text/html": [
       "<div>\n",
       "<style scoped>\n",
       "    .dataframe tbody tr th:only-of-type {\n",
       "        vertical-align: middle;\n",
       "    }\n",
       "\n",
       "    .dataframe tbody tr th {\n",
       "        vertical-align: top;\n",
       "    }\n",
       "\n",
       "    .dataframe thead th {\n",
       "        text-align: right;\n",
       "    }\n",
       "</style>\n",
       "<table border=\"1\" class=\"dataframe\">\n",
       "  <thead>\n",
       "    <tr style=\"text-align: right;\">\n",
       "      <th></th>\n",
       "      <th>C9H13N1O4</th>\n",
       "      <th>C37H28O15</th>\n",
       "      <th>C9H6O5</th>\n",
       "      <th>C10H16O9</th>\n",
       "      <th>C26H20O13</th>\n",
       "      <th>C19H15N1O5</th>\n",
       "      <th>C20H22O14</th>\n",
       "      <th>C42H39N1O5S1</th>\n",
       "      <th>C27H28O15</th>\n",
       "      <th>C24H46O4</th>\n",
       "      <th>...</th>\n",
       "      <th>C39H32O11</th>\n",
       "      <th>C30H28O12</th>\n",
       "      <th>C31H22O11</th>\n",
       "      <th>C35H36O10</th>\n",
       "      <th>C20H24O9S1</th>\n",
       "      <th>C18H34O19</th>\n",
       "      <th>C29H18O12</th>\n",
       "      <th>C36H34O13</th>\n",
       "      <th>C28H38O5</th>\n",
       "      <th>C24H18O13</th>\n",
       "    </tr>\n",
       "  </thead>\n",
       "  <tbody>\n",
       "    <tr>\n",
       "      <th>ESI-1</th>\n",
       "      <td>0</td>\n",
       "      <td>0</td>\n",
       "      <td>19512818</td>\n",
       "      <td>3786909</td>\n",
       "      <td>0</td>\n",
       "      <td>0</td>\n",
       "      <td>3558136</td>\n",
       "      <td>0</td>\n",
       "      <td>0</td>\n",
       "      <td>0</td>\n",
       "      <td>...</td>\n",
       "      <td>0</td>\n",
       "      <td>0</td>\n",
       "      <td>0</td>\n",
       "      <td>0</td>\n",
       "      <td>6599841</td>\n",
       "      <td>0</td>\n",
       "      <td>0</td>\n",
       "      <td>0</td>\n",
       "      <td>0</td>\n",
       "      <td>2840439</td>\n",
       "    </tr>\n",
       "    <tr>\n",
       "      <th>ESI-2</th>\n",
       "      <td>0</td>\n",
       "      <td>0</td>\n",
       "      <td>0</td>\n",
       "      <td>6074700</td>\n",
       "      <td>0</td>\n",
       "      <td>0</td>\n",
       "      <td>0</td>\n",
       "      <td>0</td>\n",
       "      <td>0</td>\n",
       "      <td>0</td>\n",
       "      <td>...</td>\n",
       "      <td>0</td>\n",
       "      <td>0</td>\n",
       "      <td>0</td>\n",
       "      <td>0</td>\n",
       "      <td>0</td>\n",
       "      <td>0</td>\n",
       "      <td>0</td>\n",
       "      <td>0</td>\n",
       "      <td>0</td>\n",
       "      <td>0</td>\n",
       "    </tr>\n",
       "    <tr>\n",
       "      <th>ESI-3</th>\n",
       "      <td>0</td>\n",
       "      <td>0</td>\n",
       "      <td>9944512</td>\n",
       "      <td>8557797</td>\n",
       "      <td>0</td>\n",
       "      <td>0</td>\n",
       "      <td>0</td>\n",
       "      <td>0</td>\n",
       "      <td>0</td>\n",
       "      <td>0</td>\n",
       "      <td>...</td>\n",
       "      <td>0</td>\n",
       "      <td>0</td>\n",
       "      <td>0</td>\n",
       "      <td>0</td>\n",
       "      <td>4551164</td>\n",
       "      <td>0</td>\n",
       "      <td>0</td>\n",
       "      <td>0</td>\n",
       "      <td>0</td>\n",
       "      <td>0</td>\n",
       "    </tr>\n",
       "    <tr>\n",
       "      <th>ESI-4</th>\n",
       "      <td>0</td>\n",
       "      <td>0</td>\n",
       "      <td>4034163</td>\n",
       "      <td>6680453</td>\n",
       "      <td>0</td>\n",
       "      <td>0</td>\n",
       "      <td>0</td>\n",
       "      <td>0</td>\n",
       "      <td>0</td>\n",
       "      <td>0</td>\n",
       "      <td>...</td>\n",
       "      <td>0</td>\n",
       "      <td>0</td>\n",
       "      <td>0</td>\n",
       "      <td>0</td>\n",
       "      <td>0</td>\n",
       "      <td>0</td>\n",
       "      <td>0</td>\n",
       "      <td>0</td>\n",
       "      <td>0</td>\n",
       "      <td>0</td>\n",
       "    </tr>\n",
       "    <tr>\n",
       "      <th>LDI-1</th>\n",
       "      <td>0</td>\n",
       "      <td>3713427</td>\n",
       "      <td>6782769</td>\n",
       "      <td>0</td>\n",
       "      <td>7847390</td>\n",
       "      <td>0</td>\n",
       "      <td>0</td>\n",
       "      <td>0</td>\n",
       "      <td>4309238</td>\n",
       "      <td>0</td>\n",
       "      <td>...</td>\n",
       "      <td>0</td>\n",
       "      <td>7212569</td>\n",
       "      <td>8527401</td>\n",
       "      <td>0</td>\n",
       "      <td>0</td>\n",
       "      <td>0</td>\n",
       "      <td>7013098</td>\n",
       "      <td>4236432</td>\n",
       "      <td>0</td>\n",
       "      <td>6361981</td>\n",
       "    </tr>\n",
       "  </tbody>\n",
       "</table>\n",
       "<p>5 rows × 5855 columns</p>\n",
       "</div>"
      ],
      "text/plain": [
       "      C9H13N1O4 C37H28O15    C9H6O5 C10H16O9 C26H20O13 C19H15N1O5 C20H22O14  \\\n",
       "ESI-1         0         0  19512818  3786909         0          0   3558136   \n",
       "ESI-2         0         0         0  6074700         0          0         0   \n",
       "ESI-3         0         0   9944512  8557797         0          0         0   \n",
       "ESI-4         0         0   4034163  6680453         0          0         0   \n",
       "LDI-1         0   3713427   6782769        0   7847390          0         0   \n",
       "\n",
       "      C42H39N1O5S1 C27H28O15 C24H46O4  ... C39H32O11 C30H28O12 C31H22O11  \\\n",
       "ESI-1            0         0        0  ...         0         0         0   \n",
       "ESI-2            0         0        0  ...         0         0         0   \n",
       "ESI-3            0         0        0  ...         0         0         0   \n",
       "ESI-4            0         0        0  ...         0         0         0   \n",
       "LDI-1            0   4309238        0  ...         0   7212569   8527401   \n",
       "\n",
       "      C35H36O10 C20H24O9S1 C18H34O19 C29H18O12 C36H34O13 C28H38O5 C24H18O13  \n",
       "ESI-1         0    6599841         0         0         0        0   2840439  \n",
       "ESI-2         0          0         0         0         0        0         0  \n",
       "ESI-3         0    4551164         0         0         0        0         0  \n",
       "ESI-4         0          0         0         0         0        0         0  \n",
       "LDI-1         0          0         0   7013098   4236432        0   6361981  \n",
       "\n",
       "[5 rows x 5855 columns]"
      ]
     },
     "execution_count": 4,
     "metadata": {},
     "output_type": "execute_result"
    }
   ],
   "source": [
    "fordination.head()"
   ]
  },
  {
   "cell_type": "markdown",
   "metadata": {},
   "source": [
    "* We should normalise the intensity across rows to aid comparison between spectra aquired in different samples. Normalisation calculations are performed on the rows of the ordination matrix using ```normalise_intensity```. \n",
    "  * An important caveat: sum-normalised relative intensity calculations on FT-MS data is limited by the fact that FT-MS is not a quantitative technique, and the peak intensities of the formula in a sample are indicative of ionisation efficiency as well as the relative abundance of that formula. By making relative intensity calculations we are effectively treating the data as quantitiative and biasing our analysis against formula that do not efficiently ionize.  \n",
    "  * If you would like to avoid making relative intensity calculations on your data, you can process the ordination matrix as a binary matrix, which indicates the presence or absence of a formula (1 or 0) but does not contain information about its abundance. Setting the ```norm_method``` argument to ```binary``` will create this for you. A separate technique called [Principal Coordinate Analysis (PCoA)](https://www.sequentix.de/gelquest/help/principal_coordinates_analysis.htm#:~:text=Principal%20Coordinates%20Analysis%20(PCoA%2C%20%3D,e.g.%20as%20a%203D%20graphics) should be used for binary data.\n",
    "  * Other normalisation options available in PyKrev include z-score normalisation, minmax normalisation, and unit vector relative intensity. [There is ongoing discussion about the best normalisation technique to use for FT-MS complex mixture analysis](https://analyticalsciencejournals.onlinelibrary.wiley.com/doi/10.1002/rcm.9068). ```normalise_intensity``` provides the functionality to perform most of the normalisation methods used in the literature.   \n",
    "  * In this example we will continue to use sum relative intensities."
   ]
  },
  {
   "cell_type": "code",
   "execution_count": 5,
   "metadata": {},
   "outputs": [],
   "source": [
    "nordination = pk.normalise_intensity(fordination, norm_method = 'sum')"
   ]
  },
  {
   "cell_type": "markdown",
   "metadata": {},
   "source": [
    "* Now we are ready to perform PCA using the [sklearn](https://scikit-learn.org/stable/modules/generated/sklearn.decomposition.PCA.html) library. PCA is performed by computing the eigenvectors of the covariance matrix of our dataset. The eigenvalues of each of these vectors explain how much of the variance was captured by their eigenvector. The PCA class within the sklearn library allows you to modify the method used to perform the eigendecomposition and change the number of components to keep. We are going to use the default parameters in which all principal components are kept."
   ]
  },
  {
   "cell_type": "code",
   "execution_count": 6,
   "metadata": {},
   "outputs": [],
   "source": [
    "pca = PCA() #instance of the PCA class, here we can define parameters about the PCA \n",
    "pca.fit(nordination) #fit the PCA intialised with default parameters to our data\n",
    "pca_result = pca.transform(nordination) # transform our data with the fitted model"
   ]
  },
  {
   "cell_type": "markdown",
   "metadata": {},
   "source": [
    "* One way to visualise the variance explained by your principal coordinates is with a scree plot and a variance plot. You can use the ```scree_plot``` and ```variance_plot``` functions i've defined below to do this. "
   ]
  },
  {
   "cell_type": "code",
   "execution_count": 7,
   "metadata": {},
   "outputs": [],
   "source": [
    "def scree_plot(pca_instance, **kwargs):\n",
    "    \"\"\" This function creates a scree plot on the results of the sklearn implementation of PCA.\"\"\"\n",
    "    varExplained = pca_instance.explained_variance_ \n",
    "    componentN  = np.arange(1,len(varExplained)+1)\n",
    "    plt.bar(componentN,varExplained, **kwargs)\n",
    "    plt.xticks(componentN)\n",
    "    plt.xlabel('Principal Component')\n",
    "    plt.ylabel('Eigenvalue')\n",
    "    return plt.gcf(), plt.gca()"
   ]
  },
  {
   "cell_type": "code",
   "execution_count": 8,
   "metadata": {},
   "outputs": [],
   "source": [
    "def variance_plot(pca_instance, **kwargs):\n",
    "    \"\"\" This function creates a variance plot on the results of the sklearn implementation of PCA.\"\"\"\n",
    "    varExplained = pca_instance.explained_variance_ratio_\n",
    "    cumVarExplained = np.cumsum(pca_instance.explained_variance_ratio_)\n",
    "    componentN  = np.arange(1,len(varExplained)+1)\n",
    "    plt.scatter(componentN,varExplained)\n",
    "    plt.plot(componentN,varExplained, linestyle = '-', **kwargs)\n",
    "    plt.scatter(componentN,cumVarExplained)\n",
    "    plt.plot(componentN,cumVarExplained, linestyle = '--',**kwargs)\n",
    "    plt.xticks(componentN)\n",
    "    plt.xlabel('Principal Component')\n",
    "    plt.ylabel('Variance explained ')\n",
    "    plt.legend(['Proportion','Cumulative'])\n",
    "    return plt.gcf(), plt.gca()   "
   ]
  },
  {
   "cell_type": "code",
   "execution_count": 9,
   "metadata": {},
   "outputs": [
    {
     "data": {
      "image/png": "[encoded data removed]",
      "text/plain": [
       "<Figure size 432x288 with 1 Axes>"
      ]
     },
     "metadata": {
      "needs_background": "light"
     },
     "output_type": "display_data"
    },
    {
     "data": {
      "image/png": "[encoded data removed]",
      "text/plain": [
       "<Figure size 432x288 with 1 Axes>"
      ]
     },
     "metadata": {
      "needs_background": "light"
     },
     "output_type": "display_data"
    }
   ],
   "source": [
    "plt.figure()\n",
    "fig, ax = scree_plot(pca)\n",
    "plt.figure()\n",
    "fig, ax = variance_plot(pca)"
   ]
  },
  {
   "cell_type": "markdown",
   "metadata": {},
   "source": [
    "* So the first principal component explains ~45% of variation in the dataset, and the second ~36%. Let's plot the data, to do this we will use the ```pca_plot``` function which is defined below."
   ]
  },
  {
   "cell_type": "code",
   "execution_count": 10,
   "metadata": {},
   "outputs": [
    {
     "data": {
      "text/plain": [
       "<matplotlib.legend.Legend at 0x284ee868a30>"
      ]
     },
     "execution_count": 10,
     "metadata": {},
     "output_type": "execute_result"
    },
    {
     "data": {
      "image/png": "[encoded data removed]",
      "text/plain": [
       "<Figure size 432x288 with 1 Axes>"
      ]
     },
     "metadata": {
      "needs_background": "light"
     },
     "output_type": "display_data"
    }
   ],
   "source": [
    "def pca_plot(pca_result, pca_instance, group_names, group_colours, text_offset = 0.002, text = False, **kwargs):\n",
    "    \"\"\" This function creates a 2D PCA plot on the results of the sklearn implementation of PCA.\"\"\"\n",
    "    assert len(group_names)==len(pca_result[:,1])\n",
    "    varExplained = pca_instance.explained_variance_ratio_\n",
    "    for i in range(0,len(group_names)):\n",
    "        # scatter points with text labels\n",
    "        plt.scatter(pca_result[i,0],pca_result[i,1], s=0) #use invisible scatter points to set appropriate axis lim\n",
    "        plt.text(pca_result[i,0],pca_result[i,1], s = group_names[i], c = group_colours[i])\n",
    "    #label axes\n",
    "    plt.xlabel(f\"PC 1 ({str(varExplained[0]*100)[:4]}%)\")\n",
    "    plt.ylabel(f\"PC 2 ({str(varExplained[1]*100)[:4]}%)\")\n",
    "    ## add axis lines (like abline in r)\n",
    "    plt.axhline(0, color='k', linestyle = '--', alpha = 0.5)\n",
    "    plt.axvline(0, color='k', linestyle = '--', alpha = 0.5)\n",
    "    return plt.gcf(), plt.gca() \n",
    "\n",
    "sample_names = ['W1','W2','W3','W4'] * 4 \n",
    "sample_colours = ['#a6cee3'] * 4 + ['#1f78b4'] * 4 + ['#b2df8a'] * 4 + ['#33a02c'] * 4 #colour blind safe! \n",
    "\n",
    "fig, ax = pca_plot(pca_result = pca_result, pca_instance = pca, text = True,\n",
    "         group_names = sample_names, group_colours = sample_colours)\n",
    "\n",
    "#set a custom legend \n",
    "legend_elements = [Line2D([0], [0], marker='o', color='w', label='ESI',\n",
    "                      markerfacecolor='#a6cee3', markersize=8),\n",
    "               Line2D([0], [0], marker='o', color='w', label='LDI',\n",
    "                      markerfacecolor='#1f78b4', markersize=8),\n",
    "               Line2D([0], [0], marker='o', color='w', label='APCI',\n",
    "                      markerfacecolor='#b2df8a', markersize=8),\n",
    "               Line2D([0], [0], marker='o', color='w', label='APPI',\n",
    "                      markerfacecolor='#33a02c', markersize=8)] \n",
    "plt.legend(handles = legend_elements, loc = 'lower right')"
   ]
  },
  {
   "cell_type": "markdown",
   "metadata": {},
   "source": [
    "* The PCA plot is useful to visualise the separation between our samples, but how do the features of our dataset (in this case the molecular formula) contribute to this separation? To visualise this we will use loading plots. \n",
    " * First we need to extract the loadings and label them by their corresponding molecular formula. "
   ]
  },
  {
   "cell_type": "code",
   "execution_count": 11,
   "metadata": {},
   "outputs": [
    {
     "data": {
      "text/html": [
       "<div>\n",
       "<style scoped>\n",
       "    .dataframe tbody tr th:only-of-type {\n",
       "        vertical-align: middle;\n",
       "    }\n",
       "\n",
       "    .dataframe tbody tr th {\n",
       "        vertical-align: top;\n",
       "    }\n",
       "\n",
       "    .dataframe thead th {\n",
       "        text-align: right;\n",
       "    }\n",
       "</style>\n",
       "<table border=\"1\" class=\"dataframe\">\n",
       "  <thead>\n",
       "    <tr style=\"text-align: right;\">\n",
       "      <th></th>\n",
       "      <th>0</th>\n",
       "      <th>1</th>\n",
       "      <th>2</th>\n",
       "      <th>3</th>\n",
       "      <th>4</th>\n",
       "      <th>5</th>\n",
       "      <th>6</th>\n",
       "      <th>7</th>\n",
       "      <th>8</th>\n",
       "      <th>9</th>\n",
       "      <th>10</th>\n",
       "      <th>11</th>\n",
       "      <th>12</th>\n",
       "      <th>13</th>\n",
       "      <th>14</th>\n",
       "      <th>15</th>\n",
       "    </tr>\n",
       "  </thead>\n",
       "  <tbody>\n",
       "    <tr>\n",
       "      <th>C9H13N1O4</th>\n",
       "      <td>-0.000016</td>\n",
       "      <td>-0.000091</td>\n",
       "      <td>-0.000148</td>\n",
       "      <td>-0.000120</td>\n",
       "      <td>0.000158</td>\n",
       "      <td>0.000516</td>\n",
       "      <td>0.001803</td>\n",
       "      <td>0.001049</td>\n",
       "      <td>-0.000151</td>\n",
       "      <td>-0.000677</td>\n",
       "      <td>0.000453</td>\n",
       "      <td>0.005611</td>\n",
       "      <td>0.010457</td>\n",
       "      <td>-0.002053</td>\n",
       "      <td>0.002244</td>\n",
       "      <td>-0.452469</td>\n",
       "    </tr>\n",
       "    <tr>\n",
       "      <th>C37H28O15</th>\n",
       "      <td>0.000042</td>\n",
       "      <td>-0.000174</td>\n",
       "      <td>-0.000364</td>\n",
       "      <td>0.000252</td>\n",
       "      <td>-0.001157</td>\n",
       "      <td>0.000394</td>\n",
       "      <td>-0.000568</td>\n",
       "      <td>0.000099</td>\n",
       "      <td>0.009657</td>\n",
       "      <td>0.001831</td>\n",
       "      <td>-0.002649</td>\n",
       "      <td>-0.000923</td>\n",
       "      <td>-0.001816</td>\n",
       "      <td>-0.008897</td>\n",
       "      <td>0.004417</td>\n",
       "      <td>-0.072019</td>\n",
       "    </tr>\n",
       "    <tr>\n",
       "      <th>C9H6O5</th>\n",
       "      <td>0.003788</td>\n",
       "      <td>0.002442</td>\n",
       "      <td>-0.001314</td>\n",
       "      <td>0.007312</td>\n",
       "      <td>0.013463</td>\n",
       "      <td>0.020378</td>\n",
       "      <td>0.005427</td>\n",
       "      <td>-0.021681</td>\n",
       "      <td>0.011184</td>\n",
       "      <td>0.002724</td>\n",
       "      <td>0.030849</td>\n",
       "      <td>-0.010051</td>\n",
       "      <td>-0.015095</td>\n",
       "      <td>0.000017</td>\n",
       "      <td>-0.009297</td>\n",
       "      <td>0.082509</td>\n",
       "    </tr>\n",
       "    <tr>\n",
       "      <th>C10H16O9</th>\n",
       "      <td>-0.000712</td>\n",
       "      <td>0.003469</td>\n",
       "      <td>0.016660</td>\n",
       "      <td>-0.000338</td>\n",
       "      <td>0.003201</td>\n",
       "      <td>0.004219</td>\n",
       "      <td>0.003554</td>\n",
       "      <td>0.015018</td>\n",
       "      <td>0.002025</td>\n",
       "      <td>-0.007904</td>\n",
       "      <td>0.003029</td>\n",
       "      <td>-0.011076</td>\n",
       "      <td>0.004679</td>\n",
       "      <td>-0.001894</td>\n",
       "      <td>0.000017</td>\n",
       "      <td>-0.439306</td>\n",
       "    </tr>\n",
       "    <tr>\n",
       "      <th>C26H20O13</th>\n",
       "      <td>0.001302</td>\n",
       "      <td>0.000363</td>\n",
       "      <td>-0.001037</td>\n",
       "      <td>-0.000612</td>\n",
       "      <td>-0.002919</td>\n",
       "      <td>-0.002902</td>\n",
       "      <td>-0.001819</td>\n",
       "      <td>-0.003638</td>\n",
       "      <td>0.019564</td>\n",
       "      <td>0.007327</td>\n",
       "      <td>-0.002513</td>\n",
       "      <td>0.002405</td>\n",
       "      <td>0.001109</td>\n",
       "      <td>-0.018735</td>\n",
       "      <td>0.008654</td>\n",
       "      <td>0.315654</td>\n",
       "    </tr>\n",
       "  </tbody>\n",
       "</table>\n",
       "</div>"
      ],
      "text/plain": [
       "                 0         1         2         3         4         5   \\\n",
       "C9H13N1O4 -0.000016 -0.000091 -0.000148 -0.000120  0.000158  0.000516   \n",
       "C37H28O15  0.000042 -0.000174 -0.000364  0.000252 -0.001157  0.000394   \n",
       "C9H6O5     0.003788  0.002442 -0.001314  0.007312  0.013463  0.020378   \n",
       "C10H16O9  -0.000712  0.003469  0.016660 -0.000338  0.003201  0.004219   \n",
       "C26H20O13  0.001302  0.000363 -0.001037 -0.000612 -0.002919 -0.002902   \n",
       "\n",
       "                 6         7         8         9         10        11  \\\n",
       "C9H13N1O4  0.001803  0.001049 -0.000151 -0.000677  0.000453  0.005611   \n",
       "C37H28O15 -0.000568  0.000099  0.009657  0.001831 -0.002649 -0.000923   \n",
       "C9H6O5     0.005427 -0.021681  0.011184  0.002724  0.030849 -0.010051   \n",
       "C10H16O9   0.003554  0.015018  0.002025 -0.007904  0.003029 -0.011076   \n",
       "C26H20O13 -0.001819 -0.003638  0.019564  0.007327 -0.002513  0.002405   \n",
       "\n",
       "                 12        13        14        15  \n",
       "C9H13N1O4  0.010457 -0.002053  0.002244 -0.452469  \n",
       "C37H28O15 -0.001816 -0.008897  0.004417 -0.072019  \n",
       "C9H6O5    -0.015095  0.000017 -0.009297  0.082509  \n",
       "C10H16O9   0.004679 -0.001894  0.000017 -0.439306  \n",
       "C26H20O13  0.001109 -0.018735  0.008654  0.315654  "
      ]
     },
     "execution_count": 11,
     "metadata": {},
     "output_type": "execute_result"
    }
   ],
   "source": [
    "formula = list(fordination.columns) #extract the column headers from the ordination matrix \n",
    "loadings = pca.components_.T #extract the loadings of the formula \n",
    "loadingDF= pd.DataFrame(loadings,formula) #this constructs a dataframe with the formula as rows and the loadings for the four principal components as columns\n",
    "loadingDF.head()"
   ]
  },
  {
   "cell_type": "markdown",
   "metadata": {},
   "source": [
    "* Now we have to visualise our loadings. There are many ways we can do this and it's a great place to get creative. Functions in the formula, plotting and diversity packages in PyKrev can help. Below I have defined functions to create : \n",
    "\n",
    "  * a loading plot that recreates a mass spectrum with the contribution of masses to the PCs using ```mass_loading_plot```.\n",
    "  * a loading plot that shows the sum contribution of compound classes to the PCs using ```cclass_loading_plot```.\n",
    "  * a loading plot that shows the sum contribution of oxygen classes to the PCs using ```oxygen_loading_plot```.\n"
   ]
  },
  {
   "cell_type": "code",
   "execution_count": 12,
   "metadata": {},
   "outputs": [],
   "source": [
    "def mass_loading_plot(loadingDF):\n",
    "    \"\"\"This function takes a loading dataframe and plots the loadings of the first 2 PCs against mass\"\"\"\n",
    "    formula = list(loadingDF.index)\n",
    "    pk.mass_spectrum(formula_list=formula, peak_intensities= loadingDF.iloc[:,0],method = 'average', normalise= False, color = 'b')\n",
    "    pk.mass_spectrum(formula_list=formula, peak_intensities= loadingDF.iloc[:,1],method = 'average', normalise= False, color = 'orange')\n",
    "    plt.ylabel('Loading')\n",
    "    plt.legend(['PC1','PC2'])\n",
    "    \n",
    "    return plt.gcf(), plt.gca()"
   ]
  },
  {
   "cell_type": "code",
   "execution_count": 13,
   "metadata": {},
   "outputs": [],
   "source": [
    "def cclass_loading_plot(loadingDF):\n",
    "    \"\"\"This function takes a loading dataframe and plots a bar chart of compound class \n",
    "        with the sum loadings of the first 2 PCs \"\"\"\n",
    "    formula = list(loadingDF.index)\n",
    "    #perform compound class assignment using the formularity assignment rules\n",
    "    assignments, counts = pk.compound_class(formula,method = 'FORM')\n",
    "    #make a dictionary to store the sum of the loading values per compound class inside \n",
    "    # for PC1\n",
    "    compoundPC1 = dict()\n",
    "    # initialise dictionary with 0 values\n",
    "    for i in range(0,len(loadingDF.index)):\n",
    "        compoundPC1[assignments[i]] = 0 \n",
    "    # sum the assignment values \n",
    "    for i in range(0,len(loadingDF.index)):\n",
    "        compoundPC1[assignments[i]] += loadingDF.iloc[i,0]\n",
    "    # sort the compound classes dictionaries alphabetically (ordered dicts possible in >Python 3.7)\n",
    "    sortedPC1 = dict()\n",
    "    for s in sorted(compoundPC1):\n",
    "        sortedPC1[s] = compoundPC1[s]\n",
    "    # for PC2 \n",
    "    compoundPC2 = dict()\n",
    "    for i in range(0,len(loadingDF.index)):\n",
    "        compoundPC2[assignments[i]] = 0 \n",
    "    for i in range(0,len(loadingDF.index)):\n",
    "        compoundPC2[assignments[i]] += loadingDF.iloc[i,1]\n",
    "    sortedPC2 = dict()\n",
    "    for s in sorted(compoundPC2):\n",
    "        sortedPC2[s] = compoundPC2[s]\n",
    "    # extract the values to plot on the y axis\n",
    "    y1 = np.array(list(sortedPC1.values()))\n",
    "    y2 = np.array(list(sortedPC2.values()))\n",
    "    # create a number line for the x axis, \n",
    "    #adequately spaced to allow side by side bars for PC1 and PC2\n",
    "    xrange = np.arange(0,len(y1)*3,3)\n",
    "    plt.bar(xrange,y1)\n",
    "    plt.bar(xrange+.8,y2)\n",
    "    plt.legend(['PC1','PC2'])\n",
    "    plt.axhline(0, color='k', linestyle = '--', alpha = 0.5)\n",
    "    #Include xticks \n",
    "    plt.xticks(xrange,list(sortedPC1.keys()), rotation= 'vertical')\n",
    "    plt.xlabel('Compound class')\n",
    "    plt.ylabel('Sum loadings')\n",
    "    # return the range of the x-axis (so we can set custom x ticks if needed)\n",
    "    return plt.gcf(), plt.gca(), xrange"
   ]
  },
  {
   "cell_type": "code",
   "execution_count": 14,
   "metadata": {},
   "outputs": [],
   "source": [
    "def oxygen_loading_plot(loadingDF):\n",
    "    \"\"\"This function takes a loading dataframe and plots a bar chart of oxygen class \n",
    "        with the sum loadings of the first 2 PCs \"\"\"\n",
    "    formula = list(loadingDF.index)\n",
    "    #perform oxygen class assignment using element counts \n",
    "    oxygen_counts = [o['O'] for o in pk.element_counts(formula)]\n",
    "    #make a dictionary to store the sum of the loading values per compound class inside \n",
    "    # for PC1\n",
    "    oxygenPC1 = dict()\n",
    "    # initialise dictionary with 0 values\n",
    "    for i in range(0,len(loadingDF.index)):\n",
    "        oxygenPC1[oxygen_counts[i]] = 0 \n",
    "    # sum the assignment values \n",
    "    for i in range(0,len(loadingDF.index)):\n",
    "        oxygenPC1[oxygen_counts[i]] += loadingDF.iloc[i,0]\n",
    "    # sort the oxygen class dictionaries numerically (ordered dicts possible in >Python 3.7)\n",
    "    sortedPC1 = dict()\n",
    "    for s in sorted(oxygenPC1):\n",
    "        sortedPC1[s] = oxygenPC1[s]\n",
    "    # for PC2 \n",
    "    oxygenPC2 = dict()\n",
    "    for i in range(0,len(loadingDF.index)):\n",
    "        oxygenPC2[oxygen_counts[i]] = 0 \n",
    "    for i in range(0,len(loadingDF.index)):\n",
    "        oxygenPC2[oxygen_counts[i]] += loadingDF.iloc[i,1]\n",
    "    sortedPC2 = dict()\n",
    "    for s in sorted(oxygenPC2):\n",
    "        sortedPC2[s] = oxygenPC2[s]\n",
    "    # extract the values to plot on the y axis\n",
    "    y1 = np.array(list(sortedPC1.values()))\n",
    "    y2 = np.array(list(sortedPC2.values()))\n",
    "    # create a number line for the x axis, \n",
    "    #adequately spaced to allow side by side bars for PC1 and PC2\n",
    "    xrange = np.arange(0,len(y1)*3,3)\n",
    "    plt.bar(xrange,y1)\n",
    "    plt.bar(xrange+.8,y2)\n",
    "    plt.legend(['PC1','PC2'])\n",
    "    plt.axhline(0, color='k', linestyle = '--', alpha = 0.5)\n",
    "    #Include xticks \n",
    "    plt.xticks(xrange,list(sortedPC1.keys()), rotation= 'vertical')\n",
    "    plt.xlabel('Oxygen class')\n",
    "    plt.ylabel('Sum loadings')\n",
    "    # return the range of the x-axis (so we can set custom x ticks if needed)\n",
    "    return plt.gcf(), plt.gca(), xrange"
   ]
  },
  {
   "cell_type": "markdown",
   "metadata": {},
   "source": [
    "* In each case I like to plot the positions of the samples on the first two principal components next to the loading plot to make analysing the plots easier. This is possible using ```plt.subplots``` to create panelled figures. \n"
   ]
  },
  {
   "cell_type": "code",
   "execution_count": 15,
   "metadata": {},
   "outputs": [
    {
     "data": {
      "image/png": "[encoded data removed]",
      "text/plain": [
       "<Figure size 720x288 with 3 Axes>"
      ]
     },
     "metadata": {
      "needs_background": "light"
     },
     "output_type": "display_data"
    }
   ],
   "source": [
    "## MASS LOADINGS \n",
    "varExplained = pca.explained_variance_ratio_ #variance explained in your PCA results\n",
    "sample_name = ['W1','W2','W3','W4'] * 4 \n",
    "whisky_type = ['ESI'] * 4 + ['LDI'] * 4 + ['APCI'] * 4 + ['APPI'] * 4\n",
    "group_colours = ['#a6cee3'] * 4 + ['#1f78b4'] * 4 + ['#b2df8a'] * 4 + ['#33a02c'] * 4\n",
    "\n",
    "plt.figure(figsize=(10, 4)) # create the overall figure\n",
    "plt.subplot(1,4,(1,2)) #take the first two panels of the subplot for the loading plot\n",
    "mass_loading_plot(loadingDF)\n",
    "plt.ylim(-1,1) # centre the y axis\n",
    "plt.xlabel('Average atomic mass (Da)')\n",
    "plt.subplot(1,4,3) #take the third panel for the PC1 plot\n",
    "for i in range(0,16):\n",
    "    ## the np.random function shudders the x coordinates of the points, which is necessary to prevent overlap\n",
    "    plt.text(np.random.uniform(-.1,.1, 1),pca_result[i,0],s = sample_name[i],color = group_colours[i])\n",
    "plt.title(f'PC1 ({str(varExplained[0]*100)[:4]}%)') #include the % variance explained in the \n",
    "plt.ylim(-.2,.2)\n",
    "plt.xlim(-.15,.15)\n",
    "plt.xticks([])\n",
    "plt.yticks([-.15,.15])\n",
    "plt.axhline(0, color='k', linestyle = '--', alpha = 0.5)\n",
    "plt.subplot(1,4,4) #take the final panel for the PC2 plot\n",
    "for i in range(0,16):\n",
    "        plt.text(np.random.uniform(-.1,.1, 1),pca_result[i,1],s = sample_name[i],color = group_colours[i])\n",
    "plt.title(f'PC2 ({str(varExplained[1]*100)[:4]}%)')\n",
    "plt.ylim(-.2,.2)\n",
    "plt.xlim(-.15,.15)\n",
    "plt.xticks([])\n",
    "plt.yticks([-.15,0,.15])\n",
    "plt.axhline(0, color='k', linestyle = '--', alpha = 0.5)\n",
    "legend_elements = [Line2D([0], [0], marker='o', color='w', label='ESI',\n",
    "                          markerfacecolor='#a6cee3', markersize=8),\n",
    "                   Line2D([0], [0], marker='o', color='w', label='LDI',\n",
    "                          markerfacecolor='#1f78b4', markersize=8),\n",
    "                   Line2D([0], [0], marker='o', color='w', label='APCI',\n",
    "                          markerfacecolor='#b2df8a', markersize=8),\n",
    "                   Line2D([0], [0], marker='o', color='w', label='APPI',\n",
    "                          markerfacecolor='#33a02c', markersize=8)                  ]\n",
    "plt.legend(handles = legend_elements, loc = 'lower right')\n",
    "plt.tight_layout()\n",
    "plt.show()"
   ]
  },
  {
   "cell_type": "code",
   "execution_count": 16,
   "metadata": {},
   "outputs": [
    {
     "data": {
      "image/png": "[encoded data removed]",
      "text/plain": [
       "<Figure size 720x288 with 3 Axes>"
      ]
     },
     "metadata": {
      "needs_background": "light"
     },
     "output_type": "display_data"
    }
   ],
   "source": [
    "## COMPOUND CLASS LOADINGS \n",
    "varExplained = pca.explained_variance_ratio_ #variance explained in your PCA results\n",
    "custom_classes = ['Amino\\nSugar','Carb','Con\\nHC','Lignin','Lipid','NA','Protein','Tannin','Unsat\\nHC']\n",
    "plt.figure(figsize=(10, 4)) # create the overall figure\n",
    "plt.subplot(1,4,(1,2)) #take two panels of the subplot for the loading plot\n",
    "fig, ax, xrange = cclass_loading_plot(loadingDF)\n",
    "plt.ylim(-3,3) #centre the y axis\n",
    "## Important!! If you are copying this code, first check the order of your xticks before manually setting them\n",
    "plt.xticks(xrange,custom_classes, rotation = 'horizontal') #Set custom xticks to save space\n",
    "plt.subplot(1,4,3) #take the third panel for the PC1 plot\n",
    "for i in range(0,16):\n",
    "    ## the np.random function shudders the x coordinates of the points, which is necessary to prevent overlap\n",
    "    plt.text(np.random.uniform(-.1,.1, 1),pca_result[i,0],s = sample_name[i],color = group_colours[i])\n",
    "plt.title(f'PC1 ({str(varExplained[0]*100)[:4]}%)') #include the % variance explained in the \n",
    "plt.ylim(-.2,.2)\n",
    "plt.xlim(-.15,.15)\n",
    "plt.xticks([])\n",
    "plt.yticks([-.15,.15])\n",
    "plt.axhline(0, color='k', linestyle = '--', alpha = 0.5)\n",
    "plt.subplot(1,4,4) #take the final panel for the PC2 plot\n",
    "for i in range(0,16):\n",
    "        plt.text(np.random.uniform(-.1,.1, 1),pca_result[i,1],s = sample_name[i],color = group_colours[i])\n",
    "plt.title(f'PC2 ({str(varExplained[1]*100)[:4]}%)')\n",
    "plt.ylim(-.2,.2)\n",
    "plt.xlim(-.15,.15)\n",
    "plt.xticks([])\n",
    "plt.yticks([-.15,0,.15])\n",
    "plt.axhline(0, color='k', linestyle = '--', alpha = 0.5)\n",
    "from matplotlib.lines import Line2D\n",
    "legend_elements = [Line2D([0], [0], marker='o', color='w', label='ESI',\n",
    "                          markerfacecolor='#a6cee3', markersize=8),\n",
    "                   Line2D([0], [0], marker='o', color='w', label='LDI',\n",
    "                          markerfacecolor='#1f78b4', markersize=8),\n",
    "                   Line2D([0], [0], marker='o', color='w', label='APCI',\n",
    "                          markerfacecolor='#b2df8a', markersize=8),\n",
    "                   Line2D([0], [0], marker='o', color='w', label='APPI',\n",
    "                          markerfacecolor='#33a02c', markersize=8)                  ]\n",
    "plt.legend(handles = legend_elements, loc = 'lower right')\n",
    "plt.tight_layout()\n",
    "plt.show()"
   ]
  },
  {
   "cell_type": "code",
   "execution_count": 17,
   "metadata": {},
   "outputs": [
    {
     "data": {
      "image/png": "[encoded data removed]",
      "text/plain": [
       "<Figure size 720x288 with 3 Axes>"
      ]
     },
     "metadata": {
      "needs_background": "light"
     },
     "output_type": "display_data"
    }
   ],
   "source": [
    "## OXYGEN CLASS LOADINGS \n",
    "varExplained = pca.explained_variance_ratio_ #variance explained in your PCA results\n",
    "group_names = ['W1','W2','W3','W4']\n",
    "plt.figure(figsize=(10, 4)) # create the overall figure\n",
    "plt.subplot(1,4,(1,2)) #take two panels of the subplot for the loading plot\n",
    "oxygen_loading_plot(loadingDF)\n",
    "plt.ylim(-1.5,1.5) #centre the y axis\n",
    "plt.subplot(1,4,3) #take the third panel for the PC1 plot\n",
    "for i in range(0,16):\n",
    "    ## the np.random function shudders the x coordinates of the points, which is necessary to prevent overlap\n",
    "    plt.text(np.random.uniform(-.1,.1, 1),pca_result[i,0],s = sample_name[i],color = group_colours[i])\n",
    "plt.title(f'PC1 ({str(varExplained[0]*100)[:4]}%)') #include the % variance explained in the \n",
    "plt.ylim(-.2,.2)\n",
    "plt.xlim(-.15,.15)\n",
    "plt.xticks([])\n",
    "plt.yticks([-.15,.15])\n",
    "plt.axhline(0, color='k', linestyle = '--', alpha = 0.5)\n",
    "plt.subplot(1,4,4) #take the final panel for the PC2 plot\n",
    "for i in range(0,16):\n",
    "        plt.text(np.random.uniform(-.1,.1, 1),pca_result[i,1],s = sample_name[i],color = group_colours[i])\n",
    "plt.title(f'PC2 ({str(varExplained[1]*100)[:4]}%)')\n",
    "plt.ylim(-.2,.2)\n",
    "plt.xlim(-.15,.15)\n",
    "plt.xticks([])\n",
    "plt.yticks([-.15,0,.15])\n",
    "plt.axhline(0, color='k', linestyle = '--', alpha = 0.5)\n",
    "from matplotlib.lines import Line2D\n",
    "legend_elements = [Line2D([0], [0], marker='o', color='w', label='ESI',\n",
    "                          markerfacecolor='#a6cee3', markersize=8),\n",
    "                   Line2D([0], [0], marker='o', color='w', label='LDI',\n",
    "                          markerfacecolor='#1f78b4', markersize=8),\n",
    "                   Line2D([0], [0], marker='o', color='w', label='APCI',\n",
    "                          markerfacecolor='#b2df8a', markersize=8),\n",
    "                   Line2D([0], [0], marker='o', color='w', label='APPI',\n",
    "                          markerfacecolor='#33a02c', markersize=8)                  ]\n",
    "plt.legend(handles = legend_elements, loc = 'lower right')\n",
    "plt.tight_layout()\n",
    "plt.show()"
   ]
  },
  {
   "cell_type": "markdown",
   "metadata": {},
   "source": [
    "* Analysing the above graphics we can see that in the first principal component, that accounts for ~45% of variation in the dataset, W1 and W3 analysed by APPI have  more positive scores. These samples are positively correlated with a formula at ~ 300 Da, the condensed hydrocarbon compound class and formula with > 7 oxygen atoms. W4 analysed by ESI has a negative score and is positively correlated with formula at ~ 150 Da and ~ 200 Da, Lipid and lignin compound classes and formula with < 7 oxygen atoms, in particular formula with 2 oxygen atoms. The other samples are tightly clustered around 0 on PC 1, in particular whiskies analysed by APCI and LDI are almost indistinguishable from one another."
   ]
  },
  {
   "cell_type": "markdown",
   "metadata": {},
   "source": [
    "**That's the end of the guide.** Hopefully you are now more comfortable using sklearn and PyKrev to perform dimensionality reduction on your FT-MS data and interpret the results. One of the main advantages of doing your data analysis in Python is being able to use the powerful machine learning libraries Python has to offer. sklearn has many capabilities beyond PCA - ... discriminant analysis, k-means clustering, neural networks, random forest classifiers and  support vector machines to name just a few -  that will enable you to ask new and interesting questions with your data. [ You can learn more about them here.](https://scikit-learn.org/stable/)\n",
    "  * Contact : ezra.kitson@ed.ac.uk\n",
    "  * Last Updated: 23/03/2021"
   ]
  }
 ],
 "metadata": {
  "kernelspec": {
   "display_name": "Python 3",
   "language": "python",
   "name": "python3"
  },
  "language_info": {
   "codemirror_mode": {
    "name": "ipython",
    "version": 3
   },
   "file_extension": ".py",
   "mimetype": "text/x-python",
   "name": "python",
   "nbconvert_exporter": "python",
   "pygments_lexer": "ipython3",
   "version": "3.9.1"
  }
 },
 "nbformat": 4,
 "nbformat_minor": 4
}

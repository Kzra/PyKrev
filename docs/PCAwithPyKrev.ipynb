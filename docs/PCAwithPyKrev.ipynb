{
 "cells": [
  {
   "cell_type": "markdown",
   "metadata": {},
   "source": [
    "## PCA with PyKrev"
   ]
  },
  {
   "cell_type": "markdown",
   "metadata": {},
   "source": [
    "* In this guide we will cover how to perform PCA on your FT-MS data using the sklearn (sci-kit learn) library and PyKrev.  PCA is a dimensionality reduction technique which projects your data onto a smaller subset of axis (known as principal components) whilst preserving maximum variance.\n",
    "In this guide we will cover: \n",
    " * Data Preparation \n",
    " * Scree and variance plots\n",
    " * 2D PCA plots\n",
    " * Loading plots"
   ]
  },
  {
   "cell_type": "code",
   "execution_count": 1,
   "metadata": {},
   "outputs": [],
   "source": [
    "from sklearn.decomposition import PCA #if you do not already have the library installed run 'pip install scikit-learn'\n",
    "import pykrev as pk\n",
    "import numpy as np\n",
    "from matplotlib import pyplot as plt\n",
    "import pandas as pd"
   ]
  },
  {
   "cell_type": "code",
   "execution_count": 2,
   "metadata": {},
   "outputs": [],
   "source": [
    "np.random.seed(87) ## seed the RNG (for reproducible figures)"
   ]
  },
  {
   "cell_type": "markdown",
   "metadata": {},
   "source": [
    "* First we need to load in our dataset. In this example we are going to load in a batch aligned dataset. ```read_batch_formularity``` can then compute an ordination matrix directly on the data.\n",
    "  * The dataset was taken from [Kew, Will, et al. (2018)](https://pubs.acs.org/doi/10.1021/acs.analchem.8b01446) and consists of four whisky samples (samples A - D) analysed using ESI mode FT-MS with formula assignment rules of O>0, N<2, S<=2, P<1."
   ]
  },
  {
   "cell_type": "code",
   "execution_count": 3,
   "metadata": {},
   "outputs": [
    {
     "name": "stdout",
     "output_type": "stream",
     "text": [
      "Warning, duplicate formula assignments detected. Ordination matrix will report values for first formula it encounters.\n"
     ]
    }
   ],
   "source": [
    "fdata, fordination = pk.read_batch_formularity('example_data/batch_formularity.csv', impute_value = 0)\n",
    "nsample, nformula = fordination.shape #the ordination matrix has samples in rows and formula in columns"
   ]
  },
  {
   "cell_type": "markdown",
   "metadata": {},
   "source": [
    "* We should transpose the ordination matrix, so that the samples names are the column headers and the formula the rows in order to compute relative intensity. We can then compute relative intensity (sum normalised) calculations on the columns of this matrix using ```relative_intensity```. \n",
    "  * An important caveat: sum-normalised relative intensity calculations on FT-MS data is limited by the fact that FT-MS is not a quantitative technique, and the peak intensities of the formula in a sample are indicative of ionisation efficiency as well as the relative abundance of that formula. By making relative intensity calculations we are effectively treating the data as quantitiative and biasing our analysis against formula that do not efficiently ionize.  \n",
    "  * If you would like to avoid making relative intensity calculations on your data, you can process the ordination matrix as a binary matrix, which indicates the presence or absence of a formula (1 or 0) but does not contain information about its abundance. I've provided a function ```binary_matrix``` that will convert an ordination matrix into this format. You can perform PCA on a binary matrix, but [it's not without it's own caveats](https://stats.stackexchange.com/questions/16331/doing-principal-component-analysis-or-factor-analysis-on-binary-data). \n",
    "  * In this example we will continue to use relative intensities. "
   ]
  },
  {
   "cell_type": "code",
   "execution_count": 4,
   "metadata": {},
   "outputs": [],
   "source": [
    "rordination = pk.relative_intensity(fordination.T)"
   ]
  },
  {
   "cell_type": "code",
   "execution_count": 5,
   "metadata": {},
   "outputs": [],
   "source": [
    "def binary_matrix(ordination):\n",
    "    \"\"\" This function converts an ordination matrix into a binary matrix.\"\"\"\n",
    "    bordination = ordination.copy()\n",
    "    for idx in bordination.index:\n",
    "        bordination.loc[idx][bordination.loc[idx] > 0] = 1\n",
    "    return bordination\n",
    "bordination = binary_matrix(fordination) # no need to transpose!"
   ]
  },
  {
   "cell_type": "markdown",
   "metadata": {},
   "source": [
    "* Make sure to re-transpose the data back (so that sample names are rows and formula are column headers) prior to performing PCA.\n",
    "  * If you used the ```binary_matrix``` function the data is already in the right format."
   ]
  },
  {
   "cell_type": "code",
   "execution_count": 6,
   "metadata": {},
   "outputs": [],
   "source": [
    "pordination = rordination.T\n",
    "assert pordination.shape == (nsample,nformula)"
   ]
  },
  {
   "cell_type": "markdown",
   "metadata": {},
   "source": [
    "* Now we are ready to perform PCA using the [sklearn](https://scikit-learn.org/stable/modules/generated/sklearn.decomposition.PCA.html) library. PCA is performed by computing the eigenvectors of the covariance matrix of our dataset. The eigenvalues of each of these vectors explain how much of the variance was captured by their eigenvector. The PCA class within the sklearn library allows you to modify the method used to perform the eigendecomposition and change the number of components to keep. We are going to use the default parameters in which all principal components are kept."
   ]
  },
  {
   "cell_type": "code",
   "execution_count": 7,
   "metadata": {},
   "outputs": [],
   "source": [
    "pca = PCA() #instance of the PCA class, here we can define parameters about the PCA \n",
    "pca.fit(pordination) #fit the PCA intialised with default parameters to our data\n",
    "pca_result = pca.transform(pordination) # transform our data with the fitted model"
   ]
  },
  {
   "cell_type": "markdown",
   "metadata": {},
   "source": [
    "* One way to visualise the variance explained by your principal coordinates is with a scree plot and a variance plot. You can use the ```scree_plot``` and ```variance_plot``` functions i've defined below to do this. "
   ]
  },
  {
   "cell_type": "code",
   "execution_count": 8,
   "metadata": {},
   "outputs": [],
   "source": [
    "def scree_plot(pca_instance, **kwargs):\n",
    "    \"\"\" This function creates a scree plot on the results of the sklearn implementation of PCA.\"\"\"\n",
    "    varExplained = pca_instance.explained_variance_ \n",
    "    componentN  = np.arange(1,len(varExplained)+1)\n",
    "    plt.bar(componentN,varExplained, **kwargs)\n",
    "    plt.xticks(componentN)\n",
    "    plt.xlabel('Principal Component')\n",
    "    plt.ylabel('Eigenvalue')\n",
    "    return plt.gcf(), plt.gca()"
   ]
  },
  {
   "cell_type": "code",
   "execution_count": 9,
   "metadata": {},
   "outputs": [],
   "source": [
    "def variance_plot(pca_instance, **kwargs):\n",
    "    \"\"\" This function creates a variance plot on the results of the sklearn implementation of PCA.\"\"\"\n",
    "    varExplained = pca_instance.explained_variance_ratio_\n",
    "    cumVarExplained = np.cumsum(pca_instance.explained_variance_ratio_)\n",
    "    componentN  = np.arange(1,len(varExplained)+1)\n",
    "    plt.scatter(componentN,varExplained)\n",
    "    plt.plot(componentN,varExplained, linestyle = '-', **kwargs)\n",
    "    plt.scatter(componentN,cumVarExplained)\n",
    "    plt.plot(componentN,cumVarExplained, linestyle = '--',**kwargs)\n",
    "    plt.xticks(componentN)\n",
    "    plt.xlabel('Principal Component')\n",
    "    plt.ylabel('Variance explained ')\n",
    "    plt.legend(['Proportion','Cumulative'])\n",
    "    return plt.gcf(), plt.gca()   "
   ]
  },
  {
   "cell_type": "code",
   "execution_count": 10,
   "metadata": {},
   "outputs": [
    {
     "data": {
      "image/png": "[encoded data removed]",
      "text/plain": [
       "<Figure size 432x288 with 1 Axes>"
      ]
     },
     "metadata": {
      "needs_background": "light"
     },
     "output_type": "display_data"
    },
    {
     "data": {
      "image/png": "[encoded data removed]",
      "text/plain": [
       "<Figure size 432x288 with 1 Axes>"
      ]
     },
     "metadata": {
      "needs_background": "light"
     },
     "output_type": "display_data"
    }
   ],
   "source": [
    "plt.figure()\n",
    "fig, ax = scree_plot(pca)\n",
    "plt.figure()\n",
    "fig, ax = variance_plot(pca)"
   ]
  },
  {
   "cell_type": "markdown",
   "metadata": {},
   "source": [
    "* So the first principal component explains ~94% of variation in the dataset, and the second ~5%. Let's plot the data, to do this we will use the ```pca_plot``` function which is defined below."
   ]
  },
  {
   "cell_type": "code",
   "execution_count": 11,
   "metadata": {},
   "outputs": [
    {
     "data": {
      "image/png": "[encoded data removed]",
      "text/plain": [
       "<Figure size 432x288 with 1 Axes>"
      ]
     },
     "metadata": {
      "needs_background": "light"
     },
     "output_type": "display_data"
    }
   ],
   "source": [
    "def pca_plot(pca_result, pca_instance, group_names, text_offset = 0.002, text = False, **kwargs):\n",
    "    \"\"\" This function creates a 2D PCA plot on the results of the sklearn implementation of PCA.\"\"\"\n",
    "    assert len(group_names)==len(pca_result[:,1])\n",
    "    varExplained = pca_instance.explained_variance_ratio_\n",
    "    for i in range(0,len(group_names)):\n",
    "        # scatter points with default pyplot colour scheme\n",
    "        plt.scatter(pca_result[i,0],pca_result[i,1], **kwargs)\n",
    "        # add text labels to scatter points \n",
    "        if text == True:\n",
    "             plt.text(pca_result[i,0] + text_offset,pca_result[i,1], group_names[i])\n",
    "    #label axes\n",
    "    plt.xlabel(f\"PC 1 {str(varExplained[0]*100)[:4]}%\")\n",
    "    plt.ylabel(f\"PC 2 {str(varExplained[1]*100)[:4]}%\")\n",
    "    plt.legend(group_names)\n",
    "    ## add axis lines (like abline in r)\n",
    "    plt.axhline(0, color='k', linestyle = '--', alpha = 0.5)\n",
    "    plt.axvline(0, color='k', linestyle = '--', alpha = 0.5)\n",
    "\n",
    "    return plt.gcf(), plt.gca() \n",
    "\n",
    "fig, ax = pca_plot(pca_result = pca_result, pca_instance = pca, text = False,\n",
    "         group_names = ['Sample A', 'Sample B', 'Sample C', 'Sample D'])"
   ]
  },
  {
   "cell_type": "markdown",
   "metadata": {},
   "source": [
    "* The PCA plot is useful to visualise the separation between our samples, but how do the features of our dataset (in this case the molecular formula) contribute to this separation? To visualise this we will use loading plots. \n",
    " * First we need to extract the loadings and label them by their corresponding molecular formula. "
   ]
  },
  {
   "cell_type": "code",
   "execution_count": 12,
   "metadata": {},
   "outputs": [
    {
     "data": {
      "text/html": [
       "<div>\n",
       "<style scoped>\n",
       "    .dataframe tbody tr th:only-of-type {\n",
       "        vertical-align: middle;\n",
       "    }\n",
       "\n",
       "    .dataframe tbody tr th {\n",
       "        vertical-align: top;\n",
       "    }\n",
       "\n",
       "    .dataframe thead th {\n",
       "        text-align: right;\n",
       "    }\n",
       "</style>\n",
       "<table border=\"1\" class=\"dataframe\">\n",
       "  <thead>\n",
       "    <tr style=\"text-align: right;\">\n",
       "      <th></th>\n",
       "      <th>0</th>\n",
       "      <th>1</th>\n",
       "      <th>2</th>\n",
       "      <th>3</th>\n",
       "    </tr>\n",
       "  </thead>\n",
       "  <tbody>\n",
       "    <tr>\n",
       "      <th>C25H32O14</th>\n",
       "      <td>-0.000494</td>\n",
       "      <td>0.000781</td>\n",
       "      <td>0.009780</td>\n",
       "      <td>-0.880367</td>\n",
       "    </tr>\n",
       "    <tr>\n",
       "      <th>C6H8O5</th>\n",
       "      <td>-0.026645</td>\n",
       "      <td>-0.029505</td>\n",
       "      <td>0.018159</td>\n",
       "      <td>-0.362122</td>\n",
       "    </tr>\n",
       "    <tr>\n",
       "      <th>C13H22O10</th>\n",
       "      <td>0.002567</td>\n",
       "      <td>0.011335</td>\n",
       "      <td>0.021789</td>\n",
       "      <td>0.257237</td>\n",
       "    </tr>\n",
       "    <tr>\n",
       "      <th>C23H18O6S1</th>\n",
       "      <td>-0.000628</td>\n",
       "      <td>0.000993</td>\n",
       "      <td>0.012425</td>\n",
       "      <td>0.000545</td>\n",
       "    </tr>\n",
       "    <tr>\n",
       "      <th>C12H18O10</th>\n",
       "      <td>-0.016757</td>\n",
       "      <td>-0.037426</td>\n",
       "      <td>-0.095240</td>\n",
       "      <td>-0.000978</td>\n",
       "    </tr>\n",
       "  </tbody>\n",
       "</table>\n",
       "</div>"
      ],
      "text/plain": [
       "                   0         1         2         3\n",
       "C25H32O14  -0.000494  0.000781  0.009780 -0.880367\n",
       "C6H8O5     -0.026645 -0.029505  0.018159 -0.362122\n",
       "C13H22O10   0.002567  0.011335  0.021789  0.257237\n",
       "C23H18O6S1 -0.000628  0.000993  0.012425  0.000545\n",
       "C12H18O10  -0.016757 -0.037426 -0.095240 -0.000978"
      ]
     },
     "execution_count": 12,
     "metadata": {},
     "output_type": "execute_result"
    }
   ],
   "source": [
    "formula = list(fordination.columns) #extract the column headers from the ordination matrix \n",
    "loadings = pca.components_.T #extract the loadings of the formula \n",
    "loadingDF= pd.DataFrame(loadings,formula) #this constructs a dataframe with the formula as rows and the loadings for the four principal components as columns\n",
    "loadingDF.head()"
   ]
  },
  {
   "cell_type": "markdown",
   "metadata": {},
   "source": [
    "* Now we have to visualise our loadings. There are many ways we can do this and it's a great place to get creative. Functions in the formula, plotting and diversity packages in PyKrev can help. Below I have defined functions to create : \n",
    "\n",
    "  * a loading plot that recreates a mass spectrum with the contribution of masses to the PCs using ```mass_loading_plot```.\n",
    "  * a loading plot that shows the sum contribution of compound classes to the PCs using ```cclass_loading_plot```.\n",
    "  * a loading plot that shows the sum contribution of oxygen classes to the PCs using ```oxygen_loading_plot```.\n"
   ]
  },
  {
   "cell_type": "code",
   "execution_count": 13,
   "metadata": {},
   "outputs": [],
   "source": [
    "def mass_loading_plot(loadingDF):\n",
    "    \"\"\"This function takes a loading dataframe and plots the loadings of the first 2 PCs against mass\"\"\"\n",
    "    formula = list(loadingDF.index)\n",
    "    pk.mass_spectrum(formula_list=formula, peak_intensities= loadingDF.iloc[:,0],method = 'average', normalise= False, color = 'b')\n",
    "    pk.mass_spectrum(formula_list=formula, peak_intensities= loadingDF.iloc[:,1],method = 'average', normalise= False, color = 'orange')\n",
    "    plt.ylabel('Loading')\n",
    "    plt.legend(['PC1','PC2'])\n",
    "    \n",
    "    return plt.gcf(), plt.gca()"
   ]
  },
  {
   "cell_type": "code",
   "execution_count": 14,
   "metadata": {},
   "outputs": [],
   "source": [
    "def cclass_loading_plot(loadingDF):\n",
    "    \"\"\"This function takes a loading dataframe and plots a bar chart of compound class \n",
    "        with the sum loadings of the first 2 PCs \"\"\"\n",
    "    formula = list(loadingDF.index)\n",
    "    #perform compound class assignment using the formularity assignment rules\n",
    "    assignments, counts = pk.compound_class(formula,method = 'FORM')\n",
    "    #make a dictionary to store the sum of the loading values per compound class inside \n",
    "    # for PC1\n",
    "    compoundPC1 = dict()\n",
    "    # initialise dictionary with 0 values\n",
    "    for i in range(0,len(loadingDF.index)):\n",
    "        compoundPC1[assignments[i]] = 0 \n",
    "    # sum the assignment values \n",
    "    for i in range(0,len(loadingDF.index)):\n",
    "        compoundPC1[assignments[i]] += loadingDF.iloc[i,0]\n",
    "    # sort the compound classes dictionaries alphabetically (ordered dicts possible in >Python 3.7)\n",
    "    sortedPC1 = dict()\n",
    "    for s in sorted(compoundPC1):\n",
    "        sortedPC1[s] = compoundPC1[s]\n",
    "    # for PC2 \n",
    "    compoundPC2 = dict()\n",
    "    for i in range(0,len(loadingDF.index)):\n",
    "        compoundPC2[assignments[i]] = 0 \n",
    "    for i in range(0,len(loadingDF.index)):\n",
    "        compoundPC2[assignments[i]] += loadingDF.iloc[i,1]\n",
    "    sortedPC2 = dict()\n",
    "    for s in sorted(compoundPC2):\n",
    "        sortedPC2[s] = compoundPC2[s]\n",
    "    # extract the values to plot on the y axis\n",
    "    y1 = np.array(list(sortedPC1.values()))\n",
    "    y2 = np.array(list(sortedPC2.values()))\n",
    "    # create a number line for the x axis, \n",
    "    #adequately spaced to allow side by side bars for PC1 and PC2\n",
    "    xrange = np.arange(0,len(y1)*3,3)\n",
    "    plt.bar(xrange,y1)\n",
    "    plt.bar(xrange+.8,y2)\n",
    "    plt.legend(['PC1','PC2'])\n",
    "    plt.axhline(0, color='k', linestyle = '--', alpha = 0.5)\n",
    "    #Include xticks \n",
    "    plt.xticks(xrange,list(sortedPC1.keys()), rotation= 'vertical')\n",
    "    plt.xlabel('Compound class')\n",
    "    plt.ylabel('Sum loadings')\n",
    "    # return the range of the x-axis (so we can set custom x ticks if needed)\n",
    "    return plt.gcf(), plt.gca(), xrange"
   ]
  },
  {
   "cell_type": "code",
   "execution_count": 15,
   "metadata": {},
   "outputs": [],
   "source": [
    "def oxygen_loading_plot(loadingDF):\n",
    "    \"\"\"This function takes a loading dataframe and plots a bar chart of oxygen class \n",
    "        with the sum loadings of the first 2 PCs \"\"\"\n",
    "    formula = list(loadingDF.index)\n",
    "    #perform oxygen class assignment using element counts \n",
    "    oxygen_counts = [o['O'] for o in pk.element_counts(formula)]\n",
    "    #make a dictionary to store the sum of the loading values per compound class inside \n",
    "    # for PC1\n",
    "    oxygenPC1 = dict()\n",
    "    # initialise dictionary with 0 values\n",
    "    for i in range(0,len(loadingDF.index)):\n",
    "        oxygenPC1[oxygen_counts[i]] = 0 \n",
    "    # sum the assignment values \n",
    "    for i in range(0,len(loadingDF.index)):\n",
    "        oxygenPC1[oxygen_counts[i]] += loadingDF.iloc[i,0]\n",
    "    # sort the oxygen class dictionaries numerically (ordered dicts possible in >Python 3.7)\n",
    "    sortedPC1 = dict()\n",
    "    for s in sorted(oxygenPC1):\n",
    "        sortedPC1[s] = oxygenPC1[s]\n",
    "    # for PC2 \n",
    "    oxygenPC2 = dict()\n",
    "    for i in range(0,len(loadingDF.index)):\n",
    "        oxygenPC2[oxygen_counts[i]] = 0 \n",
    "    for i in range(0,len(loadingDF.index)):\n",
    "        oxygenPC2[oxygen_counts[i]] += loadingDF.iloc[i,1]\n",
    "    sortedPC2 = dict()\n",
    "    for s in sorted(oxygenPC2):\n",
    "        sortedPC2[s] = oxygenPC2[s]\n",
    "    # extract the values to plot on the y axis\n",
    "    y1 = np.array(list(sortedPC1.values()))\n",
    "    y2 = np.array(list(sortedPC2.values()))\n",
    "    # create a number line for the x axis, \n",
    "    #adequately spaced to allow side by side bars for PC1 and PC2\n",
    "    xrange = np.arange(0,len(y1)*3,3)\n",
    "    plt.bar(xrange,y1)\n",
    "    plt.bar(xrange+.8,y2)\n",
    "    plt.legend(['PC1','PC2'])\n",
    "    plt.axhline(0, color='k', linestyle = '--', alpha = 0.5)\n",
    "    #Include xticks \n",
    "    plt.xticks(xrange,list(sortedPC1.keys()), rotation= 'vertical')\n",
    "    plt.xlabel('Oxygen class')\n",
    "    plt.ylabel('Sum loadings')\n",
    "    # return the range of the x-axis (so we can set custom x ticks if needed)\n",
    "    return plt.gcf(), plt.gca(), xrange"
   ]
  },
  {
   "cell_type": "markdown",
   "metadata": {},
   "source": [
    "* In each case I like to plot the positions of the samples on the first two principal components next to the loading plot to make analysing the plots easier. This is possible using ```plt.subplots``` to create panelled figures. \n"
   ]
  },
  {
   "cell_type": "code",
   "execution_count": 16,
   "metadata": {},
   "outputs": [
    {
     "data": {
      "image/png": "[encoded data removed]",
      "text/plain": [
       "<Figure size 720x288 with 3 Axes>"
      ]
     },
     "metadata": {
      "needs_background": "light"
     },
     "output_type": "display_data"
    }
   ],
   "source": [
    "## MASS LOADINGS \n",
    "varExplained = pca.explained_variance_ratio_ #variance explained in your PCA results\n",
    "group_names = ['A','B','C','D'] # sample names\n",
    "plt.figure(figsize=(10, 4)) # create the overall figure\n",
    "plt.subplot(1,4,(1,2)) #take the first two panels of the subplot for the loading plot\n",
    "mass_loading_plot(loadingDF)\n",
    "plt.ylim(-1,1) # centre the y axis\n",
    "plt.subplot(1,4,3) #take the third panel for the PC1 plot\n",
    "for i in range(0,4):\n",
    "    ## the np.random function shudders the x coordinates of the points, which is necessary to prevent overlap\n",
    "    plt.scatter(np.random.uniform(-.1,.1, 1),pca_result[i,0])\n",
    "plt.title(f'PC1 ({str(varExplained[0]*100)[:4]}%)') #include the % variance explained in the \n",
    "plt.ylim(-.1,.1)\n",
    "plt.xticks([])\n",
    "plt.yticks([-.08,0,.08])\n",
    "plt.axhline(0, color='k', linestyle = '--', alpha = 0.5)\n",
    "plt.subplot(1,4,4) #take the final panel for the PC2 plot\n",
    "for i in range(0,4):\n",
    "    plt.scatter(np.random.uniform(-.1,.1, 1),pca_result[i,1]) \n",
    "plt.title(f'PC2 ({str(varExplained[1]*100)[:4]}%)')\n",
    "plt.ylim(-.1,.1)\n",
    "plt.xticks([])\n",
    "plt.yticks([-.08,0,.08])\n",
    "plt.legend(group_names, loc = 'lower right')\n",
    "plt.axhline(0, color='k', linestyle = '--', alpha = 0.5)\n",
    "plt.tight_layout()\n",
    "plt.show()"
   ]
  },
  {
   "cell_type": "code",
   "execution_count": 17,
   "metadata": {},
   "outputs": [
    {
     "data": {
      "image/png": "[encoded data removed]",
      "text/plain": [
       "<Figure size 720x288 with 3 Axes>"
      ]
     },
     "metadata": {
      "needs_background": "light"
     },
     "output_type": "display_data"
    }
   ],
   "source": [
    "## COMPOUND CLASS LOADINGS \n",
    "varExplained = pca.explained_variance_ratio_ #variance explained in your PCA results\n",
    "group_names = ['A','B','C','D']\n",
    "custom_classes = ['Amino\\nSugar','Carb','Con\\nHC','Lignin','Lipid','NA','Protein','Tannin','Unsat\\nHC']\n",
    "plt.figure(figsize=(10, 4)) # create the overall figure\n",
    "plt.subplot(1,4,(1,2)) #take two panels of the subplot for the loading plot\n",
    "fig, ax, xrange = cclass_loading_plot(loadingDF)\n",
    "plt.ylim(-2,2) #centre the y axis\n",
    "## Important!! If you are copying this code, first check the order of your xticks before manually setting them\n",
    "plt.xticks(xrange,custom_classes, rotation = 'horizontal') #Set custom xticks to save space\n",
    "plt.subplot(1,4,3) #take one panel for the PC1 plot\n",
    "for i in range(0,4):\n",
    "    plt.scatter(np.random.uniform(-.1,.1, 1),pca_result[i,0]) #shudder the points to avoid overlap \n",
    "plt.title(f'PC1 ({str(varExplained[0]*100)[:4]}%)') #include the % variance explained in the \n",
    "plt.ylim(-.1,.1)\n",
    "plt.xticks([])\n",
    "plt.yticks([-.08,0,.08])\n",
    "plt.axhline(0, color='k', linestyle = '--', alpha = 0.5)\n",
    "plt.subplot(1,4,4) #take the final panel for the PC2 plot\n",
    "for i in range(0,4):\n",
    "    plt.scatter(np.random.uniform(-.1,.1, 1),pca_result[i,1]) \n",
    "plt.title(f'PC2 ({str(varExplained[1]*100)[:4]}%)') #include the % variance explained in the \n",
    "plt.ylim(-.1,.1)\n",
    "plt.xticks([])\n",
    "plt.yticks([-.08,0,.08])\n",
    "plt.legend(group_names, loc = 'lower right')\n",
    "plt.axhline(0, color='k', linestyle = '--', alpha = 0.5)\n",
    "plt.tight_layout()\n",
    "plt.show()"
   ]
  },
  {
   "cell_type": "code",
   "execution_count": null,
   "metadata": {},
   "outputs": [],
   "source": [
    "## OXYGEN CLASS LOADINGS \n",
    "varExplained = pca.explained_variance_ratio_ #variance explained in your PCA results\n",
    "group_names = ['A','B','C','D']\n",
    "plt.figure(figsize=(10, 4)) # create the overall figure\n",
    "plt.subplot(1,4,(1,2)) #take two panels of the subplot for the loading plot\n",
    "oxygen_loading_plot(loadingDF)\n",
    "plt.ylim(-2,2) #centre the y axis\n",
    "plt.subplot(1,4,3) #take one panel for the PC1 plot\n",
    "for i in range(0,4):\n",
    "    plt.scatter(np.random.uniform(-.1,.1, 1),pca_result[i,0]) #shudder the points to avoid overlap \n",
    "plt.title(f'PC1 ({str(varExplained[0]*100)[:4]}%)') #include the % variance explained in the \n",
    "plt.ylim(-.1,.1)\n",
    "plt.xticks([])\n",
    "plt.yticks([-.08,0,.08])\n",
    "plt.axhline(0, color='k', linestyle = '--', alpha = 0.5)\n",
    "plt.subplot(1,4,4) #take the final panel for the PC2 plot\n",
    "for i in range(0,4):\n",
    "    plt.scatter(np.random.uniform(-.1,.1, 1),pca_result[i,1]) \n",
    "plt.title(f'PC2 ({str(varExplained[1]*100)[:4]}%)') #include the % variance explained in the \n",
    "plt.ylim(-.1,.1)\n",
    "plt.xticks([])\n",
    "plt.yticks([-.08,0,.08])\n",
    "plt.legend(group_names, loc = 'lower right')\n",
    "plt.axhline(0, color='k', linestyle = '--', alpha = 0.5)\n",
    "plt.tight_layout()\n",
    "plt.show()"
   ]
  },
  {
   "cell_type": "markdown",
   "metadata": {},
   "source": [
    "* Analysing the above graphics we can see that in the first principal component, that accounts for ~95% of variation in the dataset, both whisky sample B and D have positive scores, although sample D has a notably higher score. From the loading plots we can say that these samples are  correlated  with two masses, one at ~ 180 Da and one ~ 200 Da, and with formula assigned to the lipid compound class, and with formula that have < 5 oxygen atoms. Whisky sample A and C have negative scores on PC1, and are correlated with two masses ~300 Da and ~500 Da, formula assigned to condensed hydrocarbon and lignin compound classes, and formula with oxygen counts > 15."
   ]
  },
  {
   "cell_type": "markdown",
   "metadata": {},
   "source": [
    "**That's the end of the guide.** Hopefully you are now more comfortable using sklearn and PyKrev to perform dimensionality reduction on your FT-MS data and interpret the results. One of the main advantages of doing your data analysis in Python is being able to use the powerful machine learning libraries Python has to offer. sklearn has many capabilities beyond PCA - ... discriminant analysis, k-means clustering, neural networks, random forest classifiers and  support vector machines to name just a few -  that will enable you to ask new and interesting questions with your data. [ You can learn more about them here.](https://scikit-learn.org/stable/)\n",
    "  * Contact : ezra.kitson@ed.ac.uk\n",
    "  * Last Updated: 12/01/2021"
   ]
  }
 ],
 "metadata": {
  "kernelspec": {
   "display_name": "Python 3",
   "language": "python",
   "name": "python3"
  },
  "language_info": {
   "codemirror_mode": {
    "name": "ipython",
    "version": 3
   },
   "file_extension": ".py",
   "mimetype": "text/x-python",
   "name": "python",
   "nbconvert_exporter": "python",
   "pygments_lexer": "ipython3",
   "version": "3.9.1"
  }
 },
 "nbformat": 4,
 "nbformat_minor": 4
}
